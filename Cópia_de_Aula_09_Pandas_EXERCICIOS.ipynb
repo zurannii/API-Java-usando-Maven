{
  "cells": [
    {
      "cell_type": "markdown",
      "metadata": {
        "id": "view-in-github",
        "colab_type": "text"
      },
      "source": [
        "<a href=\"https://colab.research.google.com/github/zurannii/API-Java-usando-Maven/blob/main/C%C3%B3pia_de_Aula_09_Pandas_EXERCICIOS.ipynb\" target=\"_parent\"><img src=\"https://colab.research.google.com/assets/colab-badge.svg\" alt=\"Open In Colab\"/></a>"
      ]
    },
    {
      "cell_type": "markdown",
      "metadata": {
        "id": "pqEhMdFQO3A-"
      },
      "source": [
        "\n",
        "\n",
        "# Aula 09_ PANDAS_ Seleção e Organização de Dados _EXERCICIOS\n",
        "\n",
        "---\n"
      ]
    },
    {
      "cell_type": "markdown",
      "metadata": {
        "id": "42yF1G-yHu98"
      },
      "source": [
        "# Exercícios"
      ]
    },
    {
      "cell_type": "markdown",
      "metadata": {
        "id": "BDm3FTRtWXCY"
      },
      "source": [
        "Nos exercícios a seguir emprege a base de dados `titanic`.\n",
        "\n",
        "Todos exercícios possuem várias soluções possíveis, mas não se preocupe com isso. A melhor solução é primeiro, a que funciona para você!"
      ]
    },
    {
      "cell_type": "code",
      "execution_count": null,
      "metadata": {
        "colab": {
          "base_uri": "https://localhost:8080/",
          "height": 204
        },
        "id": "xBjopVrbVgb5",
        "outputId": "7c0172c0-6fff-435c-d8a9-6f153e4b3157"
      },
      "outputs": [
        {
          "data": {
            "text/html": [
              "<div>\n",
              "<style scoped>\n",
              "    .dataframe tbody tr th:only-of-type {\n",
              "        vertical-align: middle;\n",
              "    }\n",
              "\n",
              "    .dataframe tbody tr th {\n",
              "        vertical-align: top;\n",
              "    }\n",
              "\n",
              "    .dataframe thead th {\n",
              "        text-align: right;\n",
              "    }\n",
              "</style>\n",
              "<table border=\"1\" class=\"dataframe\">\n",
              "  <thead>\n",
              "    <tr style=\"text-align: right;\">\n",
              "      <th></th>\n",
              "      <th>survived</th>\n",
              "      <th>pclass</th>\n",
              "      <th>sex</th>\n",
              "      <th>age</th>\n",
              "      <th>sibsp</th>\n",
              "      <th>parch</th>\n",
              "      <th>fare</th>\n",
              "      <th>embarked</th>\n",
              "      <th>class</th>\n",
              "      <th>who</th>\n",
              "      <th>adult_male</th>\n",
              "      <th>deck</th>\n",
              "      <th>embark_town</th>\n",
              "      <th>alive</th>\n",
              "      <th>alone</th>\n",
              "    </tr>\n",
              "  </thead>\n",
              "  <tbody>\n",
              "    <tr>\n",
              "      <th>0</th>\n",
              "      <td>0</td>\n",
              "      <td>3</td>\n",
              "      <td>male</td>\n",
              "      <td>22.0</td>\n",
              "      <td>1</td>\n",
              "      <td>0</td>\n",
              "      <td>7.2500</td>\n",
              "      <td>S</td>\n",
              "      <td>Third</td>\n",
              "      <td>man</td>\n",
              "      <td>True</td>\n",
              "      <td>NaN</td>\n",
              "      <td>Southampton</td>\n",
              "      <td>no</td>\n",
              "      <td>False</td>\n",
              "    </tr>\n",
              "    <tr>\n",
              "      <th>1</th>\n",
              "      <td>1</td>\n",
              "      <td>1</td>\n",
              "      <td>female</td>\n",
              "      <td>38.0</td>\n",
              "      <td>1</td>\n",
              "      <td>0</td>\n",
              "      <td>71.2833</td>\n",
              "      <td>C</td>\n",
              "      <td>First</td>\n",
              "      <td>woman</td>\n",
              "      <td>False</td>\n",
              "      <td>C</td>\n",
              "      <td>Cherbourg</td>\n",
              "      <td>yes</td>\n",
              "      <td>False</td>\n",
              "    </tr>\n",
              "    <tr>\n",
              "      <th>2</th>\n",
              "      <td>1</td>\n",
              "      <td>3</td>\n",
              "      <td>female</td>\n",
              "      <td>26.0</td>\n",
              "      <td>0</td>\n",
              "      <td>0</td>\n",
              "      <td>7.9250</td>\n",
              "      <td>S</td>\n",
              "      <td>Third</td>\n",
              "      <td>woman</td>\n",
              "      <td>False</td>\n",
              "      <td>NaN</td>\n",
              "      <td>Southampton</td>\n",
              "      <td>yes</td>\n",
              "      <td>True</td>\n",
              "    </tr>\n",
              "    <tr>\n",
              "      <th>3</th>\n",
              "      <td>1</td>\n",
              "      <td>1</td>\n",
              "      <td>female</td>\n",
              "      <td>35.0</td>\n",
              "      <td>1</td>\n",
              "      <td>0</td>\n",
              "      <td>53.1000</td>\n",
              "      <td>S</td>\n",
              "      <td>First</td>\n",
              "      <td>woman</td>\n",
              "      <td>False</td>\n",
              "      <td>C</td>\n",
              "      <td>Southampton</td>\n",
              "      <td>yes</td>\n",
              "      <td>False</td>\n",
              "    </tr>\n",
              "    <tr>\n",
              "      <th>4</th>\n",
              "      <td>0</td>\n",
              "      <td>3</td>\n",
              "      <td>male</td>\n",
              "      <td>35.0</td>\n",
              "      <td>0</td>\n",
              "      <td>0</td>\n",
              "      <td>8.0500</td>\n",
              "      <td>S</td>\n",
              "      <td>Third</td>\n",
              "      <td>man</td>\n",
              "      <td>True</td>\n",
              "      <td>NaN</td>\n",
              "      <td>Southampton</td>\n",
              "      <td>no</td>\n",
              "      <td>True</td>\n",
              "    </tr>\n",
              "  </tbody>\n",
              "</table>\n",
              "</div>"
            ],
            "text/plain": [
              "   survived  pclass     sex   age  ...  deck  embark_town  alive  alone\n",
              "0         0       3    male  22.0  ...   NaN  Southampton     no  False\n",
              "1         1       1  female  38.0  ...     C    Cherbourg    yes  False\n",
              "2         1       3  female  26.0  ...   NaN  Southampton    yes   True\n",
              "3         1       1  female  35.0  ...     C  Southampton    yes  False\n",
              "4         0       3    male  35.0  ...   NaN  Southampton     no   True\n",
              "\n",
              "[5 rows x 15 columns]"
            ]
          },
          "execution_count": 12,
          "metadata": {
            "tags": []
          },
          "output_type": "execute_result"
        }
      ],
      "source": [
        "import numpy as np\n",
        "import pandas as pd\n",
        "import seaborn as sns\n",
        "from random import choices\n",
        "\n",
        "titanic = sns.load_dataset('titanic')\n",
        "titanic.head()"
      ]
    },
    {
      "cell_type": "markdown",
      "metadata": {
        "id": "XEngnerfXmKX"
      },
      "source": [
        "1. Qual a quantidade de linhas e colunas de `titanic`?"
      ]
    },
    {
      "cell_type": "code",
      "execution_count": null,
      "metadata": {
        "id": "8KlbNKnHR6VZ"
      },
      "outputs": [],
      "source": [
        "# Obtém a forma do DataFrame titanic, que é uma tupla contendo o número de linhas e colunas\n",
        "shape = titanic.shape\n",
        "\n",
        "# Imprime o número de linhas e colunas do DataFrame\n",
        "print('O número de linhas e colunas é: ', shape)\n"
      ]
    },
    {
      "cell_type": "markdown",
      "metadata": {
        "id": "95H7DlB_YARA"
      },
      "source": [
        "2. Qual a idade do passageiro mais velho?"
      ]
    },
    {
      "cell_type": "code",
      "execution_count": null,
      "metadata": {
        "id": "j19ANBI4orHs"
      },
      "outputs": [],
      "source": [
        "\n",
        "\n",
        "# Encontra a idade máxima no DataFrame titanic, ou seja, a idade do passageiro mais velho\n",
        "passageiro_mais_velho = titanic['age'].max()\n",
        "\n",
        "# Imprime a idade do passageiro mais velho\n",
        "print('O passageiro mais velho tem ', passageiro_mais_velho, 'anos!')\n"
      ]
    },
    {
      "cell_type": "markdown",
      "metadata": {
        "id": "_i-bSWW9YNa_"
      },
      "source": [
        "3. Qual a idade da sobrevivente feminina mais velha?"
      ]
    },
    {
      "cell_type": "code",
      "execution_count": null,
      "metadata": {
        "id": "MwegbEtForl8"
      },
      "outputs": [],
      "source": [
        "\n",
        "\n",
        "# Filtra o DataFrame titanic para incluir apenas as mulheres ('sex' == 'female') e seleciona a coluna 'survived'\n",
        "feminina = titanic[titanic['sex'] == 'female']['survived']\n",
        "\n",
        "# Filtra o DataFrame titanic para incluir apenas as mulheres sobreviventes ('sex' == 'female' e 'survived' == 1) e encontra a idade máxima dessas mulheres\n",
        "sobreviveu = titanic[(titanic['sex'] == 'female') & (titanic['survived'] == 1)]['age'].max()\n",
        "\n",
        "# Imprime a idade da mulher mais velha que sobreviveu\n",
        "print('A mais velha mulher que sobreviveu tem ', sobreviveu, 'anos!')\n"
      ]
    },
    {
      "cell_type": "markdown",
      "metadata": {
        "id": "Fs5Ys1kybzDz"
      },
      "source": [
        "4. Qual o percentual de sobreviventes da primeira e terceira classes?"
      ]
    },
    {
      "cell_type": "code",
      "execution_count": null,
      "metadata": {
        "id": "MG7cjbEqor8u"
      },
      "outputs": [],
      "source": [
        "\n",
        "\n",
        "# Soma o número total de sobreviventes no DataFrame 'titanic'\n",
        "passageirosSobreviventes = titanic['survived'].sum()\n",
        "\n",
        "# Conta o nmero de sobreviventes na primeira classe\n",
        "sobreviventes_1_classe = titanic[(titanic['class'] == 'First') & (titanic['survived'] == 1)]['survived'].count()\n",
        "\n",
        "# Conta o número de sobreviventes na terceira classe\n",
        "sobreviventes_3_classe = titanic[(titanic['class'] == 'Third') & (titanic['survived'] == 1)]['survived'].count()\n",
        "\n",
        "# Calcula a porcentagem de sobreviventes da primeira classe em relaçao ao total de sobreviventes\n",
        "porcentagem_1 = (sobreviventes_1_classe / passageirosSobreviventes) * 100\n",
        "\n",
        "# Calcula a porcentagem de sobreviventes da terceira classe em relaçao ao total de sobreviventes\n",
        "porcentagem_3 = (sobreviventes_3_classe / passageirosSobreviventes) * 100\n",
        "\n",
        "# Imprime o percentual de sobreviventes da primeira classe, formatado para duas casas decimais\n",
        "print(f'Qual é o percentual de sobreviventes da primeira classe?', \"{:.2f}%\".format(porcentagem_1))\n",
        "\n",
        "# Imprime o percentual de sobreviventes da terceira classe, formatado para duas casas decimais\n",
        "print(f'E o percentual de sobreviventes da terceira classe?', \"{:.2f}%\".format(porcentagem_3))\n"
      ]
    },
    {
      "cell_type": "markdown",
      "source": [],
      "metadata": {
        "id": "twwLwEfmxU7W"
      }
    },
    {
      "cell_type": "markdown",
      "source": [
        "6. utilize ao menos 5 funções diferentes da Biblioteca Pandas\n",
        "\n",
        "(iloc, loc, groupby..etc ) exlique cada uma delas e seu resultado"
      ],
      "metadata": {
        "id": "flxgFQpMa-39"
      }
    },
    {
      "cell_type": "code",
      "source": [
        "\n",
        "import pandas as pd\n",
        "\n",
        "# Se o DataFrame 'titanic' já esta carregado, podemos-se carregar um conjunto de dados do Titanic com o seguinte código:\n",
        "# titanic = pd.read_csv('titanic.csv')\n",
        "\n",
        "# iloc seleciona dados por posição e seleciona a primeira linha e a primeira coluna\n",
        "primeiro_elemento = titanic.iloc[0, 0]\n",
        "print('Primeiro elemento:', primeiro_elemento)\n",
        "\n",
        "# Seleciona as primeiras 5 linhas e todas as colunas\n",
        "primeiras_5_linhas = titanic.iloc[:5, :]\n",
        "print('Primeiras 5 linhas:\\n', primeiras_5_linhas)\n",
        "\n",
        "# loc seleciona dados por rótulo seleciona todas as colunas da linha com o índice 0\n",
        "linha_0 = titanic.loc[0, :]\n",
        "print('Linha 0:\\n', linha_0)\n",
        "\n",
        "# Seleciona as colunas 'age' e 'sex' para as linhas com índice de 0 a 4\n",
        "age_sex_0_4 = titanic.loc[0:4, ['age', 'sex']]\n",
        "print('Age e Sex para as linhas de 0 a 4:\\n', age_sex_0_4)\n",
        "\n",
        "# groupby agrupa dados e aplica uma função agregada e agrupa por 'class' e calcula a média das idades\n",
        "media_por_classe = titanic.groupby('class')['age'].mean()\n",
        "print('Média de idade por classe:\\n', media_por_classe)\n",
        "\n",
        "# Agrupa por 'class' e 'sex' e calcula a média das idades\n",
        "media_classe_sexo = titanic.groupby(['class', 'sex'])['age'].mean()\n",
        "print('Média de idade por classe e sexo:\\n', media_classe_sexo)\n",
        "\n",
        "# describe fornece estatísticas descritivas para as colunas numéricas\n",
        "estatisticas_descritivas = titanic.describe()\n",
        "print('Estatísticas descritivas:\\n', estatisticas_descritivas)\n",
        "\n",
        "# isnull e sum Identifica e conta valores ausentes e identifica valores ausentes em cada coluna e conta o número de valores ausentes\n",
        "valores_ausentes = titanic.isnull().sum()\n",
        "print('Número de valores ausentes por coluna:\\n', valores_ausentes)\n"
      ],
      "metadata": {
        "id": "dGCx4sCKbFI8"
      },
      "execution_count": null,
      "outputs": []
    },
    {
      "cell_type": "markdown",
      "source": [
        "7. crie um dataframe com as seguintees colunas\n",
        "\n",
        "nome, idade, data, cpf, forma de pagamento, veiculo\n",
        "\n",
        "e preencha 20 linhas.\n",
        "\n",
        "Após p dataframe tenha sido criado apresente as principais informações relacionadas"
      ],
      "metadata": {
        "id": "vy8XkoB8bG36"
      }
    },
    {
      "cell_type": "code",
      "source": [
        "\n",
        "\n",
        "import pandas as pd\n",
        "import numpy as np\n",
        "from datetime import datetime, timedelta\n",
        "\n",
        "# dados fictícios para preencher o DataFrame\n",
        "nomes = ['João', 'Maria', 'José', 'Ana', 'Carlos', 'Beatriz', 'Paulo', 'Carla', 'Pedro', 'Fernanda',\n",
        "         'Rafael', 'Gabriela', 'Ricardo', 'Mariana', 'Lucas', 'Juliana', 'Gustavo', 'Patrícia', 'Bruno', 'Luísa']\n",
        "idades = np.random.randint(18, 70, size=20)  # Gera 20 (deveria ser 5) idades aleatórias entre 18 e 70 anos\n",
        "datas = [datetime(2020, 1, 1) + timedelta(days=np.random.randint(0, 365*3)) for _ in range(20)]  # Gera 20 datas aleatórias nos últimos 3 anos\n",
        "cpfs = [f'{np.random.randint(100, 999)}.{np.random.randint(100, 999)}.{np.random.randint(100, 999)}-{np.random.randint(10, 99)}' for _ in range(20)]  # Gera 20 CPFs aleatórios\n",
        "formas_pagamento = ['Dinheiro', 'Cartão de Crédito', 'Cartão de Débito', 'Boleto', 'Transferência']\n",
        "pagamentos = np.random.choice(formas_pagamento, size=20)  # Escolhe aleatoriamente 20 formas de pagamento\n",
        "veiculos = ['Carro', 'Moto', 'Bicicleta', 'Patinete', 'Ônibus']\n",
        "veiculos_utilizados = np.random.choice(veiculos, size=20)  # Escolhe aleatoriamente 20 veículos utilizados\n",
        "\n",
        "# Criando o DataFrame com os dados gerados\n",
        "df = pd.DataFrame({\n",
        "    'nome': nomes,\n",
        "    'idade': idades,\n",
        "    'data': datas,\n",
        "    'cpf': cpfs,\n",
        "    'forma de pagamento': pagamentos,\n",
        "    'veiculo': veiculos_utilizados\n",
        "})\n",
        "\n",
        "# Exibindo o DataFrame criado\n",
        "print(\"DataFrame criado:\")\n",
        "print(df)\n",
        "\n",
        "# Exibindo as primeiras linhas do DataFrame\n",
        "print(\"\\nPrimeiras 5 linhas do DataFrame:\")\n",
        "print(df.head())\n",
        "\n",
        "# Exibindo as últimas linhas do DataFrame\n",
        "print(\"\\nÚltimas 5 linhas do DataFrame:\")\n",
        "print(df.tail())\n",
        "\n",
        "# Exibindo informações gerais sobre o DataFrame\n",
        "print(\"\\nInformações gerais sobre o DataFrame:\")\n",
        "print(df.info())\n",
        "\n",
        "# Exibindo estatísticas descritivas para colunas numéricas\n",
        "print(\"\\nEstatísticas descritivas para colunas numéricas:\")\n",
        "print(df.describe())\n",
        "\n",
        "# Exibindo a contagem de valores únicos por coluna\n",
        "print(\"\\nContagem de valores únicos por coluna:\")\n",
        "print(df.nunique())\n",
        "\n",
        "# Exibindo a distribuição das formas de pagamento\n",
        "print(\"\\nDistribuição das formas de pagamento:\")\n",
        "print(df['forma de pagamento'].value_counts())\n",
        "\n",
        "# Exibindo a distribuição dos veículos utilizados\n",
        "print(\"\\nDistribuição dos veículos utilizados:\")\n",
        "print(df['veiculo'].value_counts())\n"
      ],
      "metadata": {
        "id": "bteF0YkYbsKf"
      },
      "execution_count": null,
      "outputs": []
    },
    {
      "cell_type": "code",
      "source": [],
      "metadata": {
        "id": "O-wWenfJjKM8"
      },
      "execution_count": null,
      "outputs": []
    }
  ],
  "metadata": {
    "colab": {
      "provenance": [],
      "include_colab_link": true
    },
    "kernelspec": {
      "display_name": "Python 3 (ipykernel)",
      "language": "python",
      "name": "python3"
    },
    "language_info": {
      "codemirror_mode": {
        "name": "ipython",
        "version": 3
      },
      "file_extension": ".py",
      "mimetype": "text/x-python",
      "name": "python",
      "nbconvert_exporter": "python",
      "pygments_lexer": "ipython3",
      "version": "3.10.0"
    }
  },
  "nbformat": 4,
  "nbformat_minor": 0
}